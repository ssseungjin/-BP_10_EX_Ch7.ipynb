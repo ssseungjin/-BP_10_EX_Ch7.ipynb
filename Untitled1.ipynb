{
  "nbformat": 4,
  "nbformat_minor": 0,
  "metadata": {
    "colab": {
      "provenance": [],
      "authorship_tag": "ABX9TyNpqSrpp+4Tx1kXZycj36sU",
      "include_colab_link": true
    },
    "kernelspec": {
      "name": "python3",
      "display_name": "Python 3"
    },
    "language_info": {
      "name": "python"
    }
  },
  "cells": [
    {
      "cell_type": "markdown",
      "metadata": {
        "id": "view-in-github",
        "colab_type": "text"
      },
      "source": [
        "<a href=\"https://colab.research.google.com/github/ssseungjin/-BP_10_EX_Ch7.ipynb/blob/main/Untitled1.ipynb\" target=\"_parent\"><img src=\"https://colab.research.google.com/assets/colab-badge.svg\" alt=\"Open In Colab\"/></a>"
      ]
    },
    {
      "cell_type": "code",
      "source": [
        "def happyBirthday(string):\n",
        "    print(\"=====================\")\n",
        "    print(\"Happy Birthday to you!\")\n",
        "    print(\"Happy Birthday to you!\")\n",
        "    print(\"Happy Birthday, dear \" + string)\n",
        "    print(\"Happy Birthday to you!\")\n",
        " \n",
        "happyBirthday(input(\"이름 : \"))"
      ],
      "metadata": {
        "colab": {
          "base_uri": "https://localhost:8080/"
        },
        "id": "K7k4fb8gNxhz",
        "outputId": "512e8172-532f-4a0d-9e83-ffb2b0b563db"
      },
      "execution_count": 1,
      "outputs": [
        {
          "output_type": "stream",
          "name": "stdout",
          "text": [
            "이름 : 오승진\n",
            "=====================\n",
            "Happy Birthday to you!\n",
            "Happy Birthday to you!\n",
            "Happy Birthday, dear 오승진\n",
            "Happy Birthday to you!\n"
          ]
        }
      ]
    },
    {
      "cell_type": "code",
      "source": [
        "def MathQ():\n",
        "    a = int(input(\"첫 번째 정수: \"))\n",
        "    b = int(input(\"두 번째 정수: \"))\n",
        "    print(\"정수 %d+%d의 합은? \" %(a, b))\n",
        " \n",
        "MathQ()"
      ],
      "metadata": {
        "colab": {
          "base_uri": "https://localhost:8080/"
        },
        "id": "7HwTusuxN441",
        "outputId": "f18251e6-dfba-4fb2-d70f-57afc85a3aed"
      },
      "execution_count": 2,
      "outputs": [
        {
          "output_type": "stream",
          "name": "stdout",
          "text": [
            "첫 번째 정수: 10\n",
            "두 번째 정수: 20\n",
            "정수 10+20의 합은? \n"
          ]
        }
      ]
    },
    {
      "cell_type": "code",
      "source": [
        "PI = 3.14  \n",
        " \n",
        "def circleArea(radius):\n",
        "    return PI*(radius**2)\n",
        " \n",
        "def circleCircumference(radius):\n",
        "    return PI*2*radius\n",
        " \n",
        "print(\"반지름이 5인 원의 면적 : \", circleArea(5))\n",
        "print(\"반지름이 5인 원의 둘레 : \", circleCircumference(5))"
      ],
      "metadata": {
        "colab": {
          "base_uri": "https://localhost:8080/"
        },
        "id": "ddiBPSDTOAeX",
        "outputId": "64d63bed-db75-46c8-de50-49a0ab07605b"
      },
      "execution_count": 3,
      "outputs": [
        {
          "output_type": "stream",
          "name": "stdout",
          "text": [
            "반지름이 5인 원의 면적 :  78.5\n",
            "반지름이 5인 원의 둘레 :  31.400000000000002\n"
          ]
        }
      ]
    },
    {
      "cell_type": "code",
      "source": [
        "def add(a,b):\n",
        "    return a+b\n",
        " \n",
        "def sub(a,b):\n",
        "    return a-b\n",
        " \n",
        "def mul(a,b):\n",
        "    return a*b\n",
        " \n",
        "def div(a,b):\n",
        "    return a/b\n",
        " \n",
        " \n",
        "#main \n",
        "a = int(input(\"첫 번째 정수: \"))\n",
        "b = int(input(\"두 번째 정수: \"))\n",
        " \n",
        "print(\"==================\")\n",
        "print(\"(%d + %d) = %d\" %(a,b,add(a,b)))\n",
        "print(\"(%d - %d) = %d\" %(a,b,sub(a,b)))\n",
        "print(\"(%d * %d) = %d\" %(a,b,mul(a,b)))\n",
        "print(\"(%d / %d) = %d\" %(a,b,div(a,b)))"
      ],
      "metadata": {
        "colab": {
          "base_uri": "https://localhost:8080/"
        },
        "id": "fmlaaq6BOD-h",
        "outputId": "2d7a3e24-f21c-424e-d22e-f2ebc7e59eaf"
      },
      "execution_count": 4,
      "outputs": [
        {
          "output_type": "stream",
          "name": "stdout",
          "text": [
            "첫 번째 정수: 20\n",
            "두 번째 정수: 10\n",
            "==================\n",
            "(20 + 10) = 30\n",
            "(20 - 10) = 10\n",
            "(20 * 10) = 200\n",
            "(20 / 10) = 2\n"
          ]
        }
      ]
    }
  ]
}